{
  "nbformat": 4,
  "nbformat_minor": 0,
  "metadata": {
    "colab": {
      "provenance": [],
      "authorship_tag": "ABX9TyPmmtN6YihlK7dFfECIwdhO",
      "include_colab_link": true
    },
    "kernelspec": {
      "name": "python3",
      "display_name": "Python 3"
    },
    "language_info": {
      "name": "python"
    }
  },
  "cells": [
    {
      "cell_type": "markdown",
      "metadata": {
        "id": "view-in-github",
        "colab_type": "text"
      },
      "source": [
        "<a href=\"https://colab.research.google.com/github/Ayush-Baranwall/DAH_ASSIGNMENT/blob/main/DAH_Assignment.ipynb\" target=\"_parent\"><img src=\"https://colab.research.google.com/assets/colab-badge.svg\" alt=\"Open In Colab\"/></a>"
      ]
    },
    {
      "cell_type": "code",
      "execution_count": 1,
      "metadata": {
        "colab": {
          "base_uri": "https://localhost:8080/"
        },
        "outputId": "9b1e8157-0736-472a-88e6-ec7374ed1e9e",
        "id": "svLBU-rhRo2A"
      },
      "outputs": [
        {
          "output_type": "stream",
          "name": "stdout",
          "text": [
            "('My', 1)\n",
            "('name', 1)\n",
            "('is', 3)\n",
            "('Ayush', 3)\n",
            "('and', 1)\n",
            "('I', 1)\n",
            "('am', 1)\n",
            "('the', 2)\n",
            "('best.', 2)\n",
            "('very', 1)\n",
            "('fast', 1)\n",
            "('in', 1)\n",
            "('learning', 1)\n"
          ]
        }
      ],
      "source": [
        "import multiprocessing\n",
        "\n",
        "\n",
        "def map_worker(chunk):\n",
        "    word_counts = {}\n",
        "    for word in chunk.split():\n",
        "        if word not in word_counts:\n",
        "            word_counts[word] = 0\n",
        "        word_counts[word] += 1\n",
        "    return [(word, count) for word, count in word_counts.items()]\n",
        "def shuffle_worker(tuples):\n",
        "    word_groups = {}\n",
        "    for word, count in tuples:\n",
        "        if word not in word_groups:\n",
        "            word_groups[word] = []\n",
        "        word_groups[word].append(count)\n",
        "    return [(word, counts) for word, counts in word_groups.items()]\n",
        "def reduce_worker(word_counts):\n",
        "    return (word_counts[0], sum(word_counts[1]))\n",
        "def map_reduce(filename, num_map_workers, num_reduce_workers):\n",
        "    # Step 1: Read the input file and split it into chunks\n",
        "    input_data = read_file(\"input.txt\")\n",
        "    chunk_size = len(input_data) // num_map_workers\n",
        "    chunks = [input_data[i:i+chunk_size] for i in range(0, len(input_data), chunk_size)]\n",
        "    # Step 2: Map step\n",
        "    with multiprocessing.Pool(num_map_workers) as pool:\n",
        "        map_results = pool.map(map_worker, chunks)\n",
        "    # Step 3: Shuffle step\n",
        "    tuples = [item for sublist in map_results for item in sublist]\n",
        "    with multiprocessing.Pool(1) as pool:\n",
        "        shuffle_results = pool.map(shuffle_worker, [tuples])\n",
        "    # Step 4: Reduce step\n",
        "    reduced_tuples = [item for sublist in shuffle_results for item in sublist]\n",
        "    with multiprocessing.Pool(num_reduce_workers) as pool:\n",
        "        final_results = pool.map(reduce_worker, reduced_tuples)\n",
        "    return final_results\n",
        "\n",
        "def main():\n",
        "    # Read the input text from file\n",
        "    with open('input.txt', 'r') as f:\n",
        "        words = f.read()\n",
        "    # Call the MapReduce function\n",
        "    result = map_worker(words)\n",
        "    # Print the output\n",
        "    for pair in result:\n",
        "        print(pair)\n",
        "if __name__ == \"__main__\":\n",
        " main()\n",
        "\n",
        " !pip freeze > requirements.txt"
      ]
    }
  ]
}
